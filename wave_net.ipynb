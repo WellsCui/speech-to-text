{
 "cells": [
  {
   "cell_type": "code",
   "execution_count": 1,
   "metadata": {
    "tags": [
     "outputPrepend"
    ]
   },
   "outputs": [],
   "source": [
    "from wave_net_utils import load_voices_files, get_max_length,fill_voices_data_with_pads, quantize_voices, get_voices_labels\n",
    "import torch\n",
    "import numpy as np\n"
   ]
  },
  {
   "cell_type": "code",
   "execution_count": 2,
   "metadata": {},
   "outputs": [
    {
     "name": "stderr",
     "output_type": "stream",
     "text": [
      "use device: cpu\n"
     ]
    }
   ],
   "source": [
    "import torch\n",
    "import sys\n",
    "from wave_net import WaveNet\n",
    "model = WaveNet(30, layer_channels=16)\n",
    "model.train()\n",
    "# device = torch.device(\"cuda:0\")\n",
    "device = torch.device(\"cpu\") \n",
    "print('use device: %s' % device, file=sys.stderr)\n",
    "model = model.to(device)\n"
   ]
  },
  {
   "cell_type": "code",
   "execution_count": null,
   "metadata": {},
   "outputs": [
    {
     "name": "stdout",
     "output_type": "stream",
     "text": [
      "labels.shape: (2, 201117)\n",
      "[1] loss: 2.780\n",
      "[2] loss: 2.777\n",
      "[3] loss: 2.774\n",
      "[4] loss: 2.770\n",
      "[5] loss: 2.768\n"
     ]
    }
   ],
   "source": [
    "from wave_net_utils import load_voices_files, get_voices_labels\n",
    "import torch.nn as nn\n",
    "import torch\n",
    "import torch.nn.functional as F\n",
    "import torch.optim as optim\n",
    "import numpy as np\n",
    "from tqdm import tqdm\n",
    "\n",
    "voices = load_voices_files(['dataset/dev/LJ050-0274.wav', 'dataset/dev/LJ050-0275.wav'])\n",
    "\n",
    "\n",
    "labels, lengths = get_voices_labels(voices, 256)\n",
    "print('labels.shape:', labels.shape)\n",
    "labels = torch.from_numpy(labels).long()\n",
    "criterion = nn.CrossEntropyLoss()\n",
    "max_length = np.max(np.array(lengths)) \n",
    "# optimizer = optim.SGD(model.parameters(), lr=0.001, momentum=0.9)\n",
    "optimizer = optim.Adam(model.parameters(), lr=0.001)\n",
    "context = np.array(np.random.rand(2, max_length, 256))\n",
    "\n",
    "for epoch in range(100): \n",
    "    # zero the parameter gradients\n",
    "    optimizer.zero_grad()\n",
    "\n",
    "    # forward + backward + optimize\n",
    "    outputs, _ = model(voices, context)\n",
    "    loss = criterion(outputs, labels)\n",
    "    loss.backward()\n",
    "    optimizer.step()\n",
    "    \n",
    "    print('[%d] loss: %.3f' % (epoch + 1, loss.item()/len(voices) ))\n",
    "\n"
   ]
  },
  {
   "cell_type": "code",
   "execution_count": null,
   "metadata": {},
   "outputs": [],
   "source": [
    "%matplotlib inline\n",
    "# https://musicinformationretrieval.com/ipython_audio.html\n",
    "# https://github.com/librosa/tutorial/blob/master/Librosa%20tutorial.ipynb\n",
    "import librosa\n",
    "import IPython.display as ipd\n",
    "import matplotlib.pyplot as plt\n",
    "import librosa.display\n",
    "plt.figure(figsize=(14, 5))\n",
    "outputs, lengths = model(voices, context)\n",
    "reconstructed_voices = model.reconstruct_from_output(outputs, lengths)\n",
    "x = reconstructed_voices[0] / (65536/2)\n",
    "x = x.numpy()\n",
    "librosa.display.waveplot(x, sr=22000)\n",
    "ipd.Audio(x, rate=22000)"
   ]
  },
  {
   "cell_type": "code",
   "execution_count": null,
   "metadata": {},
   "outputs": [],
   "source": [
    "X = librosa.stft(x)\n",
    "Xdb = librosa.amplitude_to_db(abs(X))\n",
    "plt.figure(figsize=(14, 5))\n",
    "librosa.display.specshow(Xdb, sr=22000, x_axis='time', y_axis='hz')"
   ]
  },
  {
   "cell_type": "code",
   "execution_count": null,
   "metadata": {
    "tags": [
     "outputPrepend"
    ]
   },
   "outputs": [],
   "source": [
    "context=np.random.rand(2,1024*10,16)\n",
    "generated_voices = model.generate_voices(context)\n",
    "librosa.display.waveplot(generated_voices[0]/ (65536/2), sr=22000)\n",
    "ipd.Audio(generated_voices[0]/ (65536/2), rate=22000)"
   ]
  },
  {
   "cell_type": "code",
   "execution_count": null,
   "metadata": {},
   "outputs": [],
   "source": [
    "print(generated_voices[0][:100])\n"
   ]
  },
  {
   "cell_type": "code",
   "execution_count": null,
   "metadata": {},
   "outputs": [],
   "source": []
  }
 ],
 "metadata": {
  "kernelspec": {
   "display_name": "Python 3.7.3 64-bit ('tf2': conda)",
   "language": "python",
   "name": "python37364bittf2condaeb6c2e170ca64f3a9a4901314e4d47b7"
  },
  "language_info": {
   "codemirror_mode": {
    "name": "ipython",
    "version": 3
   },
   "file_extension": ".py",
   "mimetype": "text/x-python",
   "name": "python",
   "nbconvert_exporter": "python",
   "pygments_lexer": "ipython3",
   "version": "3.7.3"
  }
 },
 "nbformat": 4,
 "nbformat_minor": 2
}
