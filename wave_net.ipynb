{
 "cells": [
  {
   "cell_type": "code",
   "execution_count": 1,
   "metadata": {
    "tags": [
     "outputPrepend"
    ]
   },
   "outputs": [
    {
     "output_type": "stream",
     "name": "stdout",
     "text": "voices lengths: 99229 201117\nvoices lengths: [99229, 201117]\nvoices_with_pads lengths: 201117 201117\n[[-1.83105469e-04 -2.44140625e-04 -2.44140625e-04 ...  0.00000000e+00\n   0.00000000e+00  0.00000000e+00]\n [ 9.15527344e-05  2.74658203e-04  1.83105469e-04 ...  3.66210938e-04\n  -6.10351562e-05 -3.05175781e-05]]\n244\n20\n"
    }
   ],
   "source": [
    "from wave_net_utils import load_voices_files, get_max_length,fill_voices_data_with_pads, quantize_voices, get_voices_labels\n",
    "import torch\n",
    "import numpy as np\n",
    "\n",
    "voices = load_voices_files(['dataset/dev/LJ050-0274.wav', 'dataset/dev/LJ050-0275.wav'])\n",
    "\n",
    "voices_with_pads, lengths = fill_voices_data_with_pads(voices)\n",
    "\n",
    "print('voices lengths:', len(voices[0]), len(voices[1]))\n",
    "print('voices lengths:', lengths)\n",
    "print('voices_with_pads lengths:', len(voices_with_pads[0]), len(voices_with_pads[1]))\n",
    "# print(voices_with_pads)\n",
    "voices_with_pads = np.array(voices_with_pads) / (65536/2)\n",
    "print(voices_with_pads)\n",
    "labels = get_voices_labels(voices_with_pads, 256)\n",
    "# quantized_voices = quantize_voices(voices_with_pads, 256)\n",
    "# print(quantized_voices)\n",
    "print(np.max(labels))\n",
    "print(np.min(labels))\n"
   ]
  },
  {
   "cell_type": "code",
   "execution_count": 1,
   "metadata": {},
   "outputs": [
    {
     "output_type": "stream",
     "name": "stderr",
     "text": "use device: cpu\n"
    }
   ],
   "source": [
    "import torch\n",
    "from wave_net import WaveNet\n",
    "model = WaveNet(30, layer_channels=16)\n",
    "model.train()\n",
    "# device = torch.device(\"cuda:0\")\n",
    "device = torch.device(\"cpu\") \n",
    "print('use device: %s' % device, file=sys.stderr)\n",
    "model = model.to(device)\n"
   ]
  },
  {
   "cell_type": "code",
   "execution_count": 3,
   "metadata": {},
   "outputs": [
    {
     "output_type": "stream",
     "name": "stdout",
     "text": "[1] loss: 5.511\n[2] loss: 5.506\n[3] loss: 5.487\n[4] loss: 5.477\n[5] loss: 5.458\n[6] loss: 5.439\n[7] loss: 5.432\n[8] loss: 5.413\n[9] loss: 5.409\n[10] loss: 5.391\n"
    }
   ],
   "source": [
    "from wave_net_utils import load_voices_files, get_voices_labels\n",
    "import torch.nn as nn\n",
    "import torch.nn.functional as F\n",
    "import torch.optim as optim\n",
    "import numpy as np\n",
    "from tqdm import tqdm\n",
    "\n",
    "voices = load_voices_files(['dataset/dev/LJ050-0274.wav', 'dataset/dev/LJ050-0275.wav'])\n",
    "\n",
    "\n",
    "labels = get_voices_labels(voices, 256)\n",
    "labels = torch.from_numpy(labels).long()\n",
    "criterion = nn.CrossEntropyLoss()\n",
    "# optimizer = optim.SGD(model.parameters(), lr=0.001, momentum=0.9)\n",
    "optimizer = optim.Adam(model.parameters(), lr=0.001)\n",
    "\n",
    "for epoch in range(10): \n",
    "    # zero the parameter gradients\n",
    "    optimizer.zero_grad()\n",
    "\n",
    "    # forward + backward + optimize\n",
    "    outputs = model(voices, None)\n",
    "    loss = criterion(outputs, labels)\n",
    "    loss.backward()\n",
    "    optimizer.step()\n",
    "    \n",
    "    print('[%d] loss: %.3f' % (epoch + 1, loss.item() ))\n",
    "\n"
   ]
  },
  {
   "cell_type": "code",
   "execution_count": null,
   "metadata": {},
   "outputs": [],
   "source": []
  }
 ],
 "metadata": {
  "language_info": {
   "codemirror_mode": {
    "name": "ipython",
    "version": 3
   },
   "file_extension": ".py",
   "mimetype": "text/x-python",
   "name": "python",
   "nbconvert_exporter": "python",
   "pygments_lexer": "ipython3",
   "version": "3.7.3-final"
  },
  "orig_nbformat": 2,
  "kernelspec": {
   "name": "python37364bittf2condaeb6c2e170ca64f3a9a4901314e4d47b7",
   "display_name": "Python 3.7.3 64-bit ('tf2': conda)"
  }
 },
 "nbformat": 4,
 "nbformat_minor": 2
}